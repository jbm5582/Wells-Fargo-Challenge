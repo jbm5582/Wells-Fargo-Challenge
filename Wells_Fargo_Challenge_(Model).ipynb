{
  "nbformat": 4,
  "nbformat_minor": 0,
  "metadata": {
    "colab": {
      "name": "Wells Fargo Challenge (Model).ipynb",
      "provenance": [],
      "collapsed_sections": []
    },
    "kernelspec": {
      "name": "python3",
      "display_name": "Python 3"
    },
    "language_info": {
      "name": "python"
    }
  },
  "cells": [
    {
      "cell_type": "code",
      "metadata": {
        "id": "kWi28OT0Dacl"
      },
      "source": [
        "import pandas as pd\n",
        "import numpy as np\n",
        "import seaborn as sns"
      ],
      "execution_count": 1,
      "outputs": []
    },
    {
      "cell_type": "code",
      "metadata": {
        "id": "ZS4SnltL4KhX"
      },
      "source": [
        "# reading in the necessary data #\n",
        "\n",
        "train_data = pd.read_csv(\"/content/drive/MyDrive/Wells Fargo Project/train_data.csv\")\n",
        "test_data = pd.read_csv(\"/content/drive/MyDrive/Wells Fargo Project/test_data.csv\")\n",
        "zip_income = pd.read_csv(\"/content/drive/MyDrive/Wells Fargo Project/zip_income.csv\")\n",
        "alert_ratio1 = pd.read_csv(\"/content/drive/MyDrive/Wells Fargo Project/alert_ratio1.csv\")\n",
        "alert_ratio = pd.read_csv(\"/content/drive/MyDrive/Wells Fargo Project/alert_ratio.csv\")"
      ],
      "execution_count": 2,
      "outputs": []
    },
    {
      "cell_type": "markdown",
      "metadata": {
        "id": "6E1BX-2wxpcW"
      },
      "source": [
        "# Model Building & Feature Importance"
      ]
    },
    {
      "cell_type": "code",
      "metadata": {
        "id": "o72NfsurxG5f"
      },
      "source": [
        "from sklearn.neural_network import MLPClassifier\n",
        "from sklearn.ensemble import RandomForestClassifier\n",
        "from sklearn.model_selection import validation_curve\n",
        "from sklearn.metrics import confusion_matrix\n",
        "from sklearn.metrics import plot_confusion_matrix\n",
        "from sklearn.model_selection import train_test_split"
      ],
      "execution_count": 3,
      "outputs": []
    },
    {
      "cell_type": "code",
      "metadata": {
        "id": "64sPSl9lBAJC"
      },
      "source": [
        "# selecting certain data to use in training data set (Remember training dataset from wells fargo is labeled unlike the testing data set so this is the data actually used to train the model)#\n",
        "\n",
        "train_col = ['TRAN_AMT', 'ACCT_PRE_TRAN_AVAIL_BAL', 'CUST_AGE',\n",
        "             'OPEN_ACCT_CT', 'WF_dvc_age', 'PWD_UPDT_TS',\n",
        "             'RGN_NAME','STATE_PRVNC_TXT','AUTHC_SCNDRY_STAT_TXT',\n",
        "             'CUST_STATE','PH_NUM_UPDT_TS', 'TRAN_TS', 'median_income', 'mean_income', \n",
        "             'month', 'fraud_hits', 'alert_counts', 'fraud_alert_ratio','FRAUD_NONFRAUD']\n",
        "\n",
        "X = train_data[train_col]"
      ],
      "execution_count": 4,
      "outputs": []
    },
    {
      "cell_type": "code",
      "metadata": {
        "id": "GfH1iCXKT6bH",
        "colab": {
          "base_uri": "https://localhost:8080/"
        },
        "outputId": "5584fbea-b051-4123-b87e-8736c5610f6f"
      },
      "source": [
        "# gets state names from state abbrevation #\n",
        "\n",
        "!pip install us\n",
        "import us\n",
        "\n",
        "s_names = list()\n",
        "\n",
        "for abrev in X.CUST_STATE:\n",
        "  abrev_str = str(abrev)\n",
        "  state_name = str(us.states.lookup(abrev_str)).lower()\n",
        "  s_names.append(state_name)\n",
        "  \n",
        "X['CUST_STATE'] = s_names "
      ],
      "execution_count": 5,
      "outputs": [
        {
          "output_type": "stream",
          "name": "stdout",
          "text": [
            "Requirement already satisfied: us in /usr/local/lib/python3.7/dist-packages (2.0.2)\n",
            "Requirement already satisfied: jellyfish==0.6.1 in /usr/local/lib/python3.7/dist-packages (from us) (0.6.1)\n"
          ]
        },
        {
          "output_type": "stream",
          "name": "stderr",
          "text": [
            "/usr/local/lib/python3.7/dist-packages/ipykernel_launcher.py:11: SettingWithCopyWarning: \n",
            "A value is trying to be set on a copy of a slice from a DataFrame.\n",
            "Try using .loc[row_indexer,col_indexer] = value instead\n",
            "\n",
            "See the caveats in the documentation: https://pandas.pydata.org/pandas-docs/stable/user_guide/indexing.html#returning-a-view-versus-a-copy\n",
            "  # This is added back by InteractiveShellApp.init_path()\n"
          ]
        }
      ]
    },
    {
      "cell_type": "code",
      "metadata": {
        "id": "J2z9zU3sYnum"
      },
      "source": [
        "# gets list of states in lower case for later use #\n",
        "\n",
        "s_list = list()\n",
        "\n",
        "for state in us.STATES:\n",
        "  s = str(state).lower()\n",
        "  s_list.append(s)"
      ],
      "execution_count": 6,
      "outputs": []
    },
    {
      "cell_type": "code",
      "metadata": {
        "id": "KLqEL1vsYqxr",
        "colab": {
          "base_uri": "https://localhost:8080/"
        },
        "outputId": "1ea96805-da55-406d-afab-a8da500bb2f8"
      },
      "source": [
        "# Determining if a customer was abroad, in state, or out of state based on where they received a text for an alert of fraud #\n",
        "\n",
        "where = list()\n",
        "i = 0\n",
        "for local in list(X.STATE_PRVNC_TXT):\n",
        "  if (local in s_list) and (local == X.CUST_STATE[i]):\n",
        "    i += 1\n",
        "    where.append('In State')\n",
        "    \n",
        "  elif (local in s_list) and (local != X.CUST_STATE[i]):\n",
        "    i += 1\n",
        "    where.append('Out of State')\n",
        "\n",
        "  elif (local not in s_list) and (local == 'missing'):\n",
        "    i += 1\n",
        "    where.append('Unknown')\n",
        "\n",
        "  elif (local not in s_list) and (local != X.CUST_STATE[i]):\n",
        "    i += 1\n",
        "    where.append('Abroad')\n",
        "X['STATE_PRVNC_TXT'] = where"
      ],
      "execution_count": 7,
      "outputs": [
        {
          "output_type": "stream",
          "name": "stderr",
          "text": [
            "/usr/local/lib/python3.7/dist-packages/ipykernel_launcher.py:19: SettingWithCopyWarning: \n",
            "A value is trying to be set on a copy of a slice from a DataFrame.\n",
            "Try using .loc[row_indexer,col_indexer] = value instead\n",
            "\n",
            "See the caveats in the documentation: https://pandas.pydata.org/pandas-docs/stable/user_guide/indexing.html#returning-a-view-versus-a-copy\n"
          ]
        }
      ]
    },
    {
      "cell_type": "code",
      "metadata": {
        "id": "8uttibjxE25y"
      },
      "source": [
        "# One hot encoding categorical variables of the model #\n",
        "\n",
        "X = pd.get_dummies(X,columns = ['PWD_UPDT_TS','RGN_NAME',\n",
        "                            'STATE_PRVNC_TXT','AUTHC_SCNDRY_STAT_TXT',\n",
        "                            'PH_NUM_UPDT_TS','month','TRAN_TS','CUST_STATE', 'CUST_AGE'])"
      ],
      "execution_count": 8,
      "outputs": []
    },
    {
      "cell_type": "code",
      "metadata": {
        "id": "xD3Q22pLferf"
      },
      "source": [
        "# setting the target data and splitting the model into a training and testing groups #\n",
        "\n",
        "y = X['FRAUD_NONFRAUD']\n",
        "X_train, X_test, y_train, y_test = train_test_split(X[['fraud_alert_ratio','TRAN_AMT','ACCT_PRE_TRAN_AVAIL_BAL','fraud_hits','WF_dvc_age']],y, random_state = 422,test_size = .25)"
      ],
      "execution_count": 9,
      "outputs": []
    },
    {
      "cell_type": "code",
      "metadata": {
        "id": "MMKkRHuJ-Dpc"
      },
      "source": [
        "rfc = RandomForestClassifier(max_depth = 15)\n",
        "model = rfc.fit(X_train,y_train)"
      ],
      "execution_count": 10,
      "outputs": []
    },
    {
      "cell_type": "code",
      "metadata": {
        "colab": {
          "base_uri": "https://localhost:8080/",
          "height": 297
        },
        "id": "f2E02_VPpQHe",
        "outputId": "49dac8de-670d-41b2-b087-292e970ae378"
      },
      "source": [
        "# confusion matrix for model #\n",
        "\n",
        "plot_confusion_matrix(estimator = model, X= X_test, y_true= y_test)"
      ],
      "execution_count": 11,
      "outputs": [
        {
          "output_type": "execute_result",
          "data": {
            "text/plain": [
              "<sklearn.metrics._plot.confusion_matrix.ConfusionMatrixDisplay at 0x7f9a93fea2d0>"
            ]
          },
          "metadata": {},
          "execution_count": 11
        },
        {
          "output_type": "display_data",
          "data": {
            "image/png": "[encoded data removed]",
            "text/plain": [
              "<Figure size 432x288 with 2 Axes>"
            ]
          },
          "metadata": {
            "needs_background": "light"
          }
        }
      ]
    },
    {
      "cell_type": "code",
      "metadata": {
        "colab": {
          "base_uri": "https://localhost:8080/"
        },
        "id": "aRV2VX7qquf7",
        "outputId": "34128c43-d727-425d-e656-cd87fbb5cf67"
      },
      "source": [
        "# accuracy score for model #\n",
        "\n",
        "int_score = model.score(X_test,y_test)\n",
        "int_score"
      ],
      "execution_count": 12,
      "outputs": [
        {
          "output_type": "execute_result",
          "data": {
            "text/plain": [
              "0.9704937189599766"
            ]
          },
          "metadata": {},
          "execution_count": 12
        }
      ]
    },
    {
      "cell_type": "code",
      "metadata": {
        "colab": {
          "base_uri": "https://localhost:8080/",
          "height": 206
        },
        "id": "HMt9UwzrtmHL",
        "outputId": "0235a0d1-5484-447c-8eb7-8a2c6e44d527"
      },
      "source": [
        "# Generating a feature importance dataframe #\n",
        "\n",
        "feat_imp = pd.DataFrame(columns = X_train.columns)\n",
        "feat_imp.loc[len(feat_imp)] = 0\n",
        "\n",
        "for col in X_test:\n",
        "\n",
        "  feat_impX = X_test.copy()\n",
        "  feat_impX[str(col)] = np.random.permutation(feat_impX[str(col)])\n",
        "  get_score = model.score(feat_impX,y_test) \n",
        "  feat_imp[str(col)] = int_score - get_score\n",
        "\n",
        "feat_imp.T.rename(columns = {0:'feature_importance'}).sort_values('feature_importance', ascending = False)"
      ],
      "execution_count": 14,
      "outputs": [
        {
          "output_type": "execute_result",
          "data": {
            "text/html": [
              "<div>\n",
              "<style scoped>\n",
              "    .dataframe tbody tr th:only-of-type {\n",
              "        vertical-align: middle;\n",
              "    }\n",
              "\n",
              "    .dataframe tbody tr th {\n",
              "        vertical-align: top;\n",
              "    }\n",
              "\n",
              "    .dataframe thead th {\n",
              "        text-align: right;\n",
              "    }\n",
              "</style>\n",
              "<table border=\"1\" class=\"dataframe\">\n",
              "  <thead>\n",
              "    <tr style=\"text-align: right;\">\n",
              "      <th></th>\n",
              "      <th>feature_importance</th>\n",
              "    </tr>\n",
              "  </thead>\n",
              "  <tbody>\n",
              "    <tr>\n",
              "      <th>fraud_alert_ratio</th>\n",
              "      <td>0.179375</td>\n",
              "    </tr>\n",
              "    <tr>\n",
              "      <th>TRAN_AMT</th>\n",
              "      <td>0.084721</td>\n",
              "    </tr>\n",
              "    <tr>\n",
              "      <th>ACCT_PRE_TRAN_AVAIL_BAL</th>\n",
              "      <td>0.044990</td>\n",
              "    </tr>\n",
              "    <tr>\n",
              "      <th>fraud_hits</th>\n",
              "      <td>0.021911</td>\n",
              "    </tr>\n",
              "    <tr>\n",
              "      <th>WF_dvc_age</th>\n",
              "      <td>0.018989</td>\n",
              "    </tr>\n",
              "  </tbody>\n",
              "</table>\n",
              "</div>"
            ],
            "text/plain": [
              "                         feature_importance\n",
              "fraud_alert_ratio                  0.179375\n",
              "TRAN_AMT                           0.084721\n",
              "ACCT_PRE_TRAN_AVAIL_BAL            0.044990\n",
              "fraud_hits                         0.021911\n",
              "WF_dvc_age                         0.018989"
            ]
          },
          "metadata": {},
          "execution_count": 14
        }
      ]
    },
    {
      "cell_type": "markdown",
      "metadata": {
        "id": "hmTQ46u9sm3s"
      },
      "source": [
        "# Model Optimization "
      ]
    },
    {
      "cell_type": "markdown",
      "metadata": {
        "id": "KWppWYmTWm0Y"
      },
      "source": [
        "The following 5 code chunks calculate validation curves for model optimization"
      ]
    },
    {
      "cell_type": "code",
      "metadata": {
        "id": "SCKcuCK8sPih"
      },
      "source": [
        "param_range = [50,60,70,80,90,100]\n",
        "train_score, test_score = validation_curve(RandomForestClassifier(), X = X_train, y = y_train, \n",
        "                                           param_name = 'n_estimators', param_range = param_range,\n",
        "                                           scoring = 'accuracy', cv = 5)\n",
        "\n"
      ],
      "execution_count": 15,
      "outputs": []
    },
    {
      "cell_type": "code",
      "metadata": {
        "id": "45jCNXjd1Lu9",
        "colab": {
          "base_uri": "https://localhost:8080/",
          "height": 297
        },
        "outputId": "bce062b7-61a1-4dd0-bd8f-10ab3c44af80"
      },
      "source": [
        "import matplotlib.pyplot as plt\n",
        "\n",
        "mean_train_score = np.mean(train_score, axis = 1)\n",
        "std_train_score = np.std(train_score, axis = 1)\n",
        "\n",
        "mean_test_score = np.mean(test_score, axis = 1)\n",
        "std_test_score = np.std(test_score, axis = 1)\n",
        "\n",
        "plt.plot(param_range, mean_train_score,\n",
        "     label = \"Training Score\", color = 'b')\n",
        "plt.plot(param_range, mean_test_score,\n",
        "   label = \"Cross Validation Score\", color = 'g')\n",
        "\n",
        "plt.title(\"Validation Curve with Random Forest Classifier\")\n",
        "plt.xlabel(\"n_estimators\")\n",
        "plt.ylabel(\"Accuracy\")\n",
        "plt.tight_layout()\n",
        "plt.legend(loc = 'best')\n",
        "plt.show()"
      ],
      "execution_count": 16,
      "outputs": [
        {
          "output_type": "display_data",
          "data": {
            "image/png": "[encoded data removed]",
            "text/plain": [
              "<Figure size 432x288 with 1 Axes>"
            ]
          },
          "metadata": {
            "needs_background": "light"
          }
        }
      ]
    },
    {
      "cell_type": "code",
      "metadata": {
        "id": "_7HBfPPm1Sp3",
        "colab": {
          "base_uri": "https://localhost:8080/",
          "height": 297
        },
        "outputId": "ac8f4f93-1039-4849-e675-396685b9275a"
      },
      "source": [
        "param_range = [5,6,7,8,9,10,15,20]\n",
        "train_score, test_score = validation_curve(RandomForestClassifier(), X = X_train, y = y_train, \n",
        "                                           param_name = 'max_depth', param_range = param_range,\n",
        "                                           scoring = 'accuracy', cv = 5)\n",
        "\n",
        "mean_train_score = np.mean(train_score, axis = 1)\n",
        "std_train_score = np.std(train_score, axis = 1)\n",
        "\n",
        "mean_test_score = np.mean(test_score, axis = 1)\n",
        "std_test_score = np.std(test_score, axis = 1)\n",
        "\n",
        "plt.plot(param_range, mean_train_score,\n",
        "     label = \"Training Score\", color = 'b')\n",
        "plt.plot(param_range, mean_test_score,\n",
        "   label = \"Cross Validation Score\", color = 'g')\n",
        "\n",
        "plt.title(\"Validation Curve with Random Forest Classifier\")\n",
        "plt.xlabel(\"max_depth\")\n",
        "plt.ylabel(\"Accuracy\")\n",
        "plt.tight_layout()\n",
        "plt.legend(loc = 'best')\n",
        "plt.show()"
      ],
      "execution_count": 17,
      "outputs": [
        {
          "output_type": "display_data",
          "data": {
            "image/png": "[encoded data removed]",
            "text/plain": [
              "<Figure size 432x288 with 1 Axes>"
            ]
          },
          "metadata": {
            "needs_background": "light"
          }
        }
      ]
    },
    {
      "cell_type": "code",
      "metadata": {
        "id": "WyYU6oFH7PLk",
        "colab": {
          "base_uri": "https://localhost:8080/",
          "height": 654
        },
        "outputId": "e15e9d40-7638-4996-e5d2-983ad6b51cfc"
      },
      "source": [
        "param_range = [1,2,3,4,5,6,7,8,9,10]\n",
        "train_score, test_score = validation_curve(RandomForestClassifier(), X = X_train, y = y_train, \n",
        "                                           param_name = 'min_samples_split', param_range = param_range,\n",
        "                                           scoring = 'accuracy', cv = 5)\n",
        "\n",
        "mean_train_score = np.mean(train_score, axis = 1)\n",
        "std_train_score = np.std(train_score, axis = 1)\n",
        "\n",
        "mean_test_score = np.mean(test_score, axis = 1)\n",
        "std_test_score = np.std(test_score, axis = 1)\n",
        "\n",
        "plt.plot(param_range, mean_train_score,\n",
        "     label = \"Training Score\", color = 'b')\n",
        "plt.plot(param_range, mean_test_score,\n",
        "   label = \"Cross Validation Score\", color = 'g')\n",
        "\n",
        "plt.title(\"Validation Curve with Random Forest Classifier\")\n",
        "plt.xlabel(\"min_samples_split\")\n",
        "plt.ylabel(\"Accuracy\")\n",
        "plt.tight_layout()\n",
        "plt.legend(loc = 'best')\n",
        "plt.show()"
      ],
      "execution_count": 18,
      "outputs": [
        {
          "output_type": "stream",
          "name": "stderr",
          "text": [
            "/usr/local/lib/python3.7/dist-packages/sklearn/model_selection/_validation.py:536: FitFailedWarning: Estimator fit failed. The score on this train-test partition for these parameters will be set to nan. Details: \n",
            "ValueError: min_samples_split must be an integer greater than 1 or a float in (0.0, 1.0]; got the integer 1\n",
            "\n",
            "  FitFailedWarning)\n",
            "/usr/local/lib/python3.7/dist-packages/sklearn/model_selection/_validation.py:536: FitFailedWarning: Estimator fit failed. The score on this train-test partition for these parameters will be set to nan. Details: \n",
            "ValueError: min_samples_split must be an integer greater than 1 or a float in (0.0, 1.0]; got the integer 1\n",
            "\n",
            "  FitFailedWarning)\n",
            "/usr/local/lib/python3.7/dist-packages/sklearn/model_selection/_validation.py:536: FitFailedWarning: Estimator fit failed. The score on this train-test partition for these parameters will be set to nan. Details: \n",
            "ValueError: min_samples_split must be an integer greater than 1 or a float in (0.0, 1.0]; got the integer 1\n",
            "\n",
            "  FitFailedWarning)\n",
            "/usr/local/lib/python3.7/dist-packages/sklearn/model_selection/_validation.py:536: FitFailedWarning: Estimator fit failed. The score on this train-test partition for these parameters will be set to nan. Details: \n",
            "ValueError: min_samples_split must be an integer greater than 1 or a float in (0.0, 1.0]; got the integer 1\n",
            "\n",
            "  FitFailedWarning)\n",
            "/usr/local/lib/python3.7/dist-packages/sklearn/model_selection/_validation.py:536: FitFailedWarning: Estimator fit failed. The score on this train-test partition for these parameters will be set to nan. Details: \n",
            "ValueError: min_samples_split must be an integer greater than 1 or a float in (0.0, 1.0]; got the integer 1\n",
            "\n",
            "  FitFailedWarning)\n"
          ]
        },
        {
          "output_type": "display_data",
          "data": {
            "image/png": "[encoded data removed]",
            "text/plain": [
              "<Figure size 432x288 with 1 Axes>"
            ]
          },
          "metadata": {
            "needs_background": "light"
          }
        }
      ]
    },
    {
      "cell_type": "code",
      "metadata": {
        "id": "Fd90oyyW8G14",
        "colab": {
          "base_uri": "https://localhost:8080/",
          "height": 297
        },
        "outputId": "34aac1c3-fdd8-4edb-b005-8640557bb2cc"
      },
      "source": [
        "param_range = [1,2,3,4,5,6,7,8,9,10]\n",
        "train_score, test_score = validation_curve(RandomForestClassifier(), X = X_train, y = y_train, \n",
        "                                           param_name = 'min_samples_leaf', param_range = param_range,\n",
        "                                           scoring = 'accuracy', cv = 5)\n",
        "\n",
        "mean_train_score = np.mean(train_score, axis = 1)\n",
        "std_train_score = np.std(train_score, axis = 1)\n",
        "\n",
        "mean_test_score = np.mean(test_score, axis = 1)\n",
        "std_test_score = np.std(test_score, axis = 1)\n",
        "\n",
        "plt.plot(param_range, mean_train_score,\n",
        "     label = \"Training Score\", color = 'b')\n",
        "plt.plot(param_range, mean_test_score,\n",
        "   label = \"Cross Validation Score\", color = 'g')\n",
        "\n",
        "plt.title(\"Validation Curve with Random Forest Classifier\")\n",
        "plt.xlabel(\"min_samples_leaf\")\n",
        "plt.ylabel(\"Accuracy\")\n",
        "plt.tight_layout()\n",
        "plt.legend(loc = 'best')\n",
        "plt.show()"
      ],
      "execution_count": 19,
      "outputs": [
        {
          "output_type": "display_data",
          "data": {
            "image/png": "[encoded data removed]",
            "text/plain": [
              "<Figure size 432x288 with 1 Axes>"
            ]
          },
          "metadata": {
            "needs_background": "light"
          }
        }
      ]
    },
    {
      "cell_type": "code",
      "metadata": {
        "id": "CAKlHuC09CZP",
        "colab": {
          "base_uri": "https://localhost:8080/",
          "height": 1000
        },
        "outputId": "2456015a-6319-4000-9b0c-b8e082eddf52"
      },
      "source": [
        "param_range = [0.0,.5,1.5,2.0,2.5,3.0]\n",
        "train_score, test_score = validation_curve(RandomForestClassifier(), X = X_train, y = y_train, \n",
        "                                           param_name = 'min_weight_fraction_leaf', param_range = param_range,\n",
        "                                           scoring = 'accuracy', cv = 5)\n",
        "\n",
        "mean_train_score = np.mean(train_score, axis = 1)\n",
        "std_train_score = np.std(train_score, axis = 1)\n",
        "\n",
        "mean_test_score = np.mean(test_score, axis = 1)\n",
        "std_test_score = np.std(test_score, axis = 1)\n",
        "\n",
        "plt.plot(param_range, mean_train_score,\n",
        "     label = \"Training Score\", color = 'b')\n",
        "plt.plot(param_range, mean_test_score,\n",
        "   label = \"Cross Validation Score\", color = 'g')\n",
        "\n",
        "plt.title(\"Validation Curve with Random Forest Classifier\")\n",
        "plt.xlabel(\"min_weight_fraction_leaf\")\n",
        "plt.ylabel(\"Accuracy\")\n",
        "plt.tight_layout()\n",
        "plt.legend(loc = 'best')\n",
        "plt.show()"
      ],
      "execution_count": 20,
      "outputs": [
        {
          "output_type": "stream",
          "name": "stderr",
          "text": [
            "/usr/local/lib/python3.7/dist-packages/sklearn/model_selection/_validation.py:536: FitFailedWarning: Estimator fit failed. The score on this train-test partition for these parameters will be set to nan. Details: \n",
            "ValueError: min_weight_fraction_leaf must in [0, 0.5]\n",
            "\n",
            "  FitFailedWarning)\n",
            "/usr/local/lib/python3.7/dist-packages/sklearn/model_selection/_validation.py:536: FitFailedWarning: Estimator fit failed. The score on this train-test partition for these parameters will be set to nan. Details: \n",
            "ValueError: min_weight_fraction_leaf must in [0, 0.5]\n",
            "\n",
            "  FitFailedWarning)\n",
            "/usr/local/lib/python3.7/dist-packages/sklearn/model_selection/_validation.py:536: FitFailedWarning: Estimator fit failed. The score on this train-test partition for these parameters will be set to nan. Details: \n",
            "ValueError: min_weight_fraction_leaf must in [0, 0.5]\n",
            "\n",
            "  FitFailedWarning)\n",
            "/usr/local/lib/python3.7/dist-packages/sklearn/model_selection/_validation.py:536: FitFailedWarning: Estimator fit failed. The score on this train-test partition for these parameters will be set to nan. Details: \n",
            "ValueError: min_weight_fraction_leaf must in [0, 0.5]\n",
            "\n",
            "  FitFailedWarning)\n",
            "/usr/local/lib/python3.7/dist-packages/sklearn/model_selection/_validation.py:536: FitFailedWarning: Estimator fit failed. The score on this train-test partition for these parameters will be set to nan. Details: \n",
            "ValueError: min_weight_fraction_leaf must in [0, 0.5]\n",
            "\n",
            "  FitFailedWarning)\n",
            "/usr/local/lib/python3.7/dist-packages/sklearn/model_selection/_validation.py:536: FitFailedWarning: Estimator fit failed. The score on this train-test partition for these parameters will be set to nan. Details: \n",
            "ValueError: min_weight_fraction_leaf must in [0, 0.5]\n",
            "\n",
            "  FitFailedWarning)\n",
            "/usr/local/lib/python3.7/dist-packages/sklearn/model_selection/_validation.py:536: FitFailedWarning: Estimator fit failed. The score on this train-test partition for these parameters will be set to nan. Details: \n",
            "ValueError: min_weight_fraction_leaf must in [0, 0.5]\n",
            "\n",
            "  FitFailedWarning)\n",
            "/usr/local/lib/python3.7/dist-packages/sklearn/model_selection/_validation.py:536: FitFailedWarning: Estimator fit failed. The score on this train-test partition for these parameters will be set to nan. Details: \n",
            "ValueError: min_weight_fraction_leaf must in [0, 0.5]\n",
            "\n",
            "  FitFailedWarning)\n",
            "/usr/local/lib/python3.7/dist-packages/sklearn/model_selection/_validation.py:536: FitFailedWarning: Estimator fit failed. The score on this train-test partition for these parameters will be set to nan. Details: \n",
            "ValueError: min_weight_fraction_leaf must in [0, 0.5]\n",
            "\n",
            "  FitFailedWarning)\n",
            "/usr/local/lib/python3.7/dist-packages/sklearn/model_selection/_validation.py:536: FitFailedWarning: Estimator fit failed. The score on this train-test partition for these parameters will be set to nan. Details: \n",
            "ValueError: min_weight_fraction_leaf must in [0, 0.5]\n",
            "\n",
            "  FitFailedWarning)\n",
            "/usr/local/lib/python3.7/dist-packages/sklearn/model_selection/_validation.py:536: FitFailedWarning: Estimator fit failed. The score on this train-test partition for these parameters will be set to nan. Details: \n",
            "ValueError: min_weight_fraction_leaf must in [0, 0.5]\n",
            "\n",
            "  FitFailedWarning)\n",
            "/usr/local/lib/python3.7/dist-packages/sklearn/model_selection/_validation.py:536: FitFailedWarning: Estimator fit failed. The score on this train-test partition for these parameters will be set to nan. Details: \n",
            "ValueError: min_weight_fraction_leaf must in [0, 0.5]\n",
            "\n",
            "  FitFailedWarning)\n",
            "/usr/local/lib/python3.7/dist-packages/sklearn/model_selection/_validation.py:536: FitFailedWarning: Estimator fit failed. The score on this train-test partition for these parameters will be set to nan. Details: \n",
            "ValueError: min_weight_fraction_leaf must in [0, 0.5]\n",
            "\n",
            "  FitFailedWarning)\n",
            "/usr/local/lib/python3.7/dist-packages/sklearn/model_selection/_validation.py:536: FitFailedWarning: Estimator fit failed. The score on this train-test partition for these parameters will be set to nan. Details: \n",
            "ValueError: min_weight_fraction_leaf must in [0, 0.5]\n",
            "\n",
            "  FitFailedWarning)\n",
            "/usr/local/lib/python3.7/dist-packages/sklearn/model_selection/_validation.py:536: FitFailedWarning: Estimator fit failed. The score on this train-test partition for these parameters will be set to nan. Details: \n",
            "ValueError: min_weight_fraction_leaf must in [0, 0.5]\n",
            "\n",
            "  FitFailedWarning)\n",
            "/usr/local/lib/python3.7/dist-packages/sklearn/model_selection/_validation.py:536: FitFailedWarning: Estimator fit failed. The score on this train-test partition for these parameters will be set to nan. Details: \n",
            "ValueError: min_weight_fraction_leaf must in [0, 0.5]\n",
            "\n",
            "  FitFailedWarning)\n",
            "/usr/local/lib/python3.7/dist-packages/sklearn/model_selection/_validation.py:536: FitFailedWarning: Estimator fit failed. The score on this train-test partition for these parameters will be set to nan. Details: \n",
            "ValueError: min_weight_fraction_leaf must in [0, 0.5]\n",
            "\n",
            "  FitFailedWarning)\n",
            "/usr/local/lib/python3.7/dist-packages/sklearn/model_selection/_validation.py:536: FitFailedWarning: Estimator fit failed. The score on this train-test partition for these parameters will be set to nan. Details: \n",
            "ValueError: min_weight_fraction_leaf must in [0, 0.5]\n",
            "\n",
            "  FitFailedWarning)\n",
            "/usr/local/lib/python3.7/dist-packages/sklearn/model_selection/_validation.py:536: FitFailedWarning: Estimator fit failed. The score on this train-test partition for these parameters will be set to nan. Details: \n",
            "ValueError: min_weight_fraction_leaf must in [0, 0.5]\n",
            "\n",
            "  FitFailedWarning)\n",
            "/usr/local/lib/python3.7/dist-packages/sklearn/model_selection/_validation.py:536: FitFailedWarning: Estimator fit failed. The score on this train-test partition for these parameters will be set to nan. Details: \n",
            "ValueError: min_weight_fraction_leaf must in [0, 0.5]\n",
            "\n",
            "  FitFailedWarning)\n"
          ]
        },
        {
          "output_type": "display_data",
          "data": {
            "image/png": "[encoded data removed]",
            "text/plain": [
              "<Figure size 432x288 with 1 Axes>"
            ]
          },
          "metadata": {
            "needs_background": "light"
          }
        }
      ]
    },
    {
      "cell_type": "code",
      "metadata": {
        "id": "jv2Vvli-CJT_"
      },
      "source": [
        "# Cycles through ever single possible combination of the data parameters untila model with a score that meets the if conditional included in the code is met #\n",
        "\n",
        "params = [i for i in X.columns if i != 'FRAUD_NONFRAUD']\n",
        "\n",
        "from itertools import combinations\n",
        "\n",
        "a = combinations(params,5)\n",
        "combs = pd.DataFrame()\n",
        "\n",
        "for i in a:\n",
        "    \n",
        "    var_comb = list(i)\n",
        "    X_train, X_test, y_train, y_test = train_test_split(X[var_comb],y, random_state = 422,test_size = .25)\n",
        "    rfc_opt = RandomForestClassifier()\n",
        "    m = rfc_opt.fit(X_train,y_train) \n",
        "    score = m.score(X_test,y_test)\n",
        "    comb =  pd.concat([pd.Series(str(var_comb)),pd.Series(score)],axis = 1).reset_index()\n",
        "    combs = pd.concat([combs,comb],axis = 0)\n",
        "    print('comb',var_comb,'\\t','score',score)\n",
        "    if (score >= .9710) & (score <= 1.0):\n",
        "        break\n",
        "    \n",
        "\n",
        "combs.rename(columns = {0:'combs',1:'score'}).sort_values('score',ascending = False)"
      ],
      "execution_count": null,
      "outputs": []
    },
    {
      "cell_type": "code",
      "metadata": {
        "id": "SEwqD3iA1n_Q",
        "colab": {
          "base_uri": "https://localhost:8080/"
        },
        "outputId": "d56af4dc-db4c-4028-8e0b-ebc7a000c0e1"
      },
      "source": [
        "# Gets F1 score for the model #\n",
        "\n",
        "from sklearn.metrics import f1_score\n",
        "\n",
        "y_pred = model.predict(X_test)\n",
        "y_pred = list(np.where(y_pred == 'Non-Fraud',0,1))\n",
        "y_test = np.where(y_test == 'Non-Fraud',0,1)\n",
        "\n",
        "f1_score(y_test,y_pred)"
      ],
      "execution_count": 23,
      "outputs": [
        {
          "output_type": "execute_result",
          "data": {
            "text/plain": [
              "0.9519276534983342"
            ]
          },
          "metadata": {},
          "execution_count": 23
        }
      ]
    }
  ]
}